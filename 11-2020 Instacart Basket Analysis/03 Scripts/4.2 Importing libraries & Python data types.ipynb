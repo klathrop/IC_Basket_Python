{
 "cells": [
  {
   "cell_type": "markdown",
   "id": "22c69220",
   "metadata": {},
   "source": [
    "# Contents\n",
    "## 1. Importing libraries\n",
    "## 2. Working with Python data types"
   ]
  },
  {
   "cell_type": "markdown",
   "id": "c4aceda2",
   "metadata": {},
   "source": [
    "# 1. Importing libraries"
   ]
  },
  {
   "cell_type": "code",
   "execution_count": 3,
   "id": "76f6566b",
   "metadata": {},
   "outputs": [],
   "source": [
    "# Import libraries\n",
    "import pandas as pd\n",
    "import numpy as np\n",
    "import os"
   ]
  },
  {
   "cell_type": "markdown",
   "id": "26937ae8",
   "metadata": {},
   "source": [
    "# 2. Working with Python data types"
   ]
  },
  {
   "cell_type": "code",
   "execution_count": 5,
   "id": "b6268c3d",
   "metadata": {},
   "outputs": [
    {
     "name": "stdout",
     "output_type": "stream",
     "text": [
      "5\n",
      "10\n"
     ]
    }
   ],
   "source": [
    "# First attempt at coding variables\n",
    "x = 5\n",
    "print(x)\n",
    "x + 5\n",
    "print(x + 5)"
   ]
  },
  {
   "cell_type": "code",
   "execution_count": 6,
   "id": "ea70a65a",
   "metadata": {},
   "outputs": [
    {
     "name": "stdout",
     "output_type": "stream",
     "text": [
      "10\n"
     ]
    }
   ],
   "source": [
    "# Second attempt at coding variables, slightly more challenging\n",
    "x = 7\n",
    "y = 8\n",
    "print(x + y - 5)"
   ]
  },
  {
   "cell_type": "code",
   "execution_count": 11,
   "id": "b5f7d3d7",
   "metadata": {},
   "outputs": [
    {
     "name": "stdout",
     "output_type": "stream",
     "text": [
      "100\n"
     ]
    }
   ],
   "source": [
    "# Third attempt at coding variables, a little more challenge please\n",
    "x = 100\n",
    "y = 25\n",
    "z = 5\n",
    "print(y * 4 - x + z * 20)"
   ]
  },
  {
   "cell_type": "code",
   "execution_count": 12,
   "id": "6ba070d7",
   "metadata": {},
   "outputs": [
    {
     "name": "stdout",
     "output_type": "stream",
     "text": [
      "2.5555555555555554\n"
     ]
    }
   ],
   "source": [
    "# Coding a floating point variable, and dividing them\n",
    "x = 5.75\n",
    "y = 2.25\n",
    "print(x/y)"
   ]
  },
  {
   "cell_type": "code",
   "execution_count": 14,
   "id": "3cdc5406",
   "metadata": {},
   "outputs": [
    {
     "name": "stdout",
     "output_type": "stream",
     "text": [
      "Hi there, my name is Keirra and I am enjoying Python. Thanks CareerFoundry!\n"
     ]
    }
   ],
   "source": [
    "# Playing with string variables\n",
    "a = 'Hi '\n",
    "b = 'there, '\n",
    "c = 'my name is Keirra '\n",
    "d = 'and I am enjoying Python. '\n",
    "e = 'Thanks CareerFoundry!'\n",
    "print(a + b + c + d + e)"
   ]
  },
  {
   "cell_type": "code",
   "execution_count": 15,
   "id": "d17bb8f9",
   "metadata": {},
   "outputs": [
    {
     "name": "stdout",
     "output_type": "stream",
     "text": [
      "hihihihihihihihihihihihihihihihihihihihihihihihihihihihihihihihihihihihihihihihihihihihihihihihihihihihihihihihihihihihihihihihihihihihihihihihihihihihihihihihihihihihihihihihihihihihihihihihihihihihi\n"
     ]
    }
   ],
   "source": [
    "# Bonus Task! Make a string appear 100 times\n",
    "x = 'hi'\n",
    "print(x * 100)"
   ]
  }
 ],
 "metadata": {
  "kernelspec": {
   "display_name": "Python 3 (ipykernel)",
   "language": "python",
   "name": "python3"
  },
  "language_info": {
   "codemirror_mode": {
    "name": "ipython",
    "version": 3
   },
   "file_extension": ".py",
   "mimetype": "text/x-python",
   "name": "python",
   "nbconvert_exporter": "python",
   "pygments_lexer": "ipython3",
   "version": "3.11.5"
  }
 },
 "nbformat": 4,
 "nbformat_minor": 5
}
